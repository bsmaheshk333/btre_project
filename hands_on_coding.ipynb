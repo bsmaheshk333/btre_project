{
  "nbformat": 4,
  "nbformat_minor": 0,
  "metadata": {
    "colab": {
      "name": "resultFile",
      "provenance": [],
      "collapsed_sections": [],
      "authorship_tag": "ABX9TyPM0irgA4TUDsskGapAXijf",
      "include_colab_link": true
    },
    "kernelspec": {
      "name": "python3",
      "display_name": "Python 3"
    },
    "language_info": {
      "name": "python"
    }
  },
  "cells": [
    {
      "cell_type": "markdown",
      "metadata": {
        "id": "view-in-github",
        "colab_type": "text"
      },
      "source": [
        "<a href=\"https://colab.research.google.com/github/bsmaheshk333/btre_project/blob/master/hands_on_coding.ipynb\" target=\"_parent\"><img src=\"https://colab.research.google.com/assets/colab-badge.svg\" alt=\"Open In Colab\"/></a>"
      ]
    },
    {
      "cell_type": "code",
      "execution_count": null,
      "metadata": {
        "id": "YJGBroXL7L7z"
      },
      "outputs": [],
      "source": [
        "import pandas as pd\n",
        "df = pd.read_excel('sampl.xlsx', sheet_name=5, skiprows=4)\n",
        "df.rename({\"Unnamed: 0\":\"column0\", 'Unnamed: 4': 'column4'}, axis=\"columns\", inplace=True)\n",
        "df"
      ]
    },
    {
      "cell_type": "code",
      "source": [
        "df"
      ],
      "metadata": {
        "id": "JY38Jflwe-F6"
      },
      "execution_count": null,
      "outputs": []
    },
    {
      "cell_type": "code",
      "source": [
        "df.rename({\"Unnamed: 0\":\"column0\", 'Unnamed: 4': 'column4'}, axis=\"columns\", inplace=True)\n",
        "df"
      ],
      "metadata": {
        "id": "_0r8FsBjJ8MJ"
      },
      "execution_count": null,
      "outputs": []
    },
    {
      "cell_type": "code",
      "source": [
        "# shift task\n",
        "pass"
      ],
      "metadata": {
        "id": "8DUOKfvdfLjP"
      },
      "execution_count": 154,
      "outputs": []
    },
    {
      "cell_type": "code",
      "source": [
        "# append task\n",
        "ap_s1 = pd.read_excel('sampl.xlsx', sheet_name='DataAppend_1', skiprows=4)\n",
        "ap_s1\n"
      ],
      "metadata": {
        "id": "va91PdvQY8Vm"
      },
      "execution_count": null,
      "outputs": []
    },
    {
      "cell_type": "code",
      "source": [
        "ap_s2 = pd.read_excel('sampl.xlsx', sheet_name='DataAppend_2', skiprows=5)\n",
        "ap_s2"
      ],
      "metadata": {
        "id": "1S-fikrZaBfa"
      },
      "execution_count": null,
      "outputs": []
    },
    {
      "cell_type": "code",
      "source": [
        "append_result = ap_s1.append(ap_s1, ignore_index=True)\n",
        "# append Done...\n",
        "\n",
        "# merge task\n",
        "# merge table 1\n",
        "merge_df1 = pd.read_excel('sampl.xlsx', sheet_name='DataMerge_1', skiprows=2)\n",
        "\n",
        "# merge table2 \n",
        "merge_df2 = pd.read_excel('sampl.xlsx', sheet_name='DataMerge_2', skiprows=11)\n",
        "merge_df2.rename({'Unnamed: 0': 'col1',}, axis=\"columns\", inplace=True)\n",
        "\n",
        "# merge_df2.drop(['col1', 'Name'],axis=1, inplace=True) # dropped / commented\n",
        "\n",
        "merge_res = pd.merge(merge_df1, merge_df2, how='inner')\n",
        "merge_res.drop(['col1'], axis=1, inplace=True)\n",
        "merge_res.to_excel('result.xlsx', sheet_name='merge_output')\n",
        "# Merge Done...\n"
      ],
      "metadata": {
        "id": "uFHuUwBHaGOV"
      },
      "execution_count": 178,
      "outputs": []
    },
    {
      "cell_type": "code",
      "source": [
        "# drop duplicate rows\n",
        "dup_rows = pd.read_excel('sampl.xlsx', sheet_name='Remove Duplicate rows')\n",
        "dup_rows.drop_duplicates(subset=['col1', 'col2', 'col3'])\n",
        "dup_rows.to_excel('other.xlsx')\n",
        "\n",
        "# dup_rows.drop_duplicates(subset=['Weighted Average Life'])"
      ],
      "metadata": {
        "id": "zbb5-EbDnIvE"
      },
      "execution_count": 186,
      "outputs": []
    },
    {
      "cell_type": "code",
      "source": [
        "from google.colab import drive\n",
        "drive.mount('/content/drive')"
      ],
      "metadata": {
        "id": "H_bP_1KDqACy"
      },
      "execution_count": null,
      "outputs": []
    },
    {
      "cell_type": "code",
      "source": [
        "# to have all sheets output in a single xl file\n",
        "xl_writer = pd.ExcelWriter('hands_on.xlsx',)\n",
        "append_result.to_excel(xl_writer, sheet_name='append_result')\n",
        "merge_res.to_excel(xl_writer, sheet_name='merge_result')\n",
        "xl_writer.save()"
      ],
      "metadata": {
        "id": "KbPXQNgFnA1N"
      },
      "execution_count": null,
      "outputs": []
    }
  ]
}